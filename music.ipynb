{
 "cells": [
  {
   "cell_type": "code",
   "execution_count": 1,
   "metadata": {},
   "outputs": [
    {
     "name": "stdout",
     "output_type": "stream",
     "text": [
      "pygame 2.0.0.dev1 (SDL 2.0.9, python 3.7.0)\n",
      "Hello from the pygame community. https://www.pygame.org/contribute.html\n"
     ]
    }
   ],
   "source": [
    "import numpy as np\n",
    "from midiutil import MIDIFile\n",
    "import pygame\n",
    "from qiskit import *\n",
    "import random"
   ]
  },
  {
   "cell_type": "markdown",
   "metadata": {},
   "source": [
    "First I'll make a dictionary so that I can look up the MIDI addresses of notes."
   ]
  },
  {
   "cell_type": "code",
   "execution_count": 2,
   "metadata": {},
   "outputs": [],
   "source": [
    "note_ref = {'C':24,'C#':25,'D':26,'D#':27,'E':28,'F':29,'G#':30,'G':31,'G#':32,'A':33,'A#':34,'B':35}"
   ]
  },
  {
   "cell_type": "markdown",
   "metadata": {},
   "source": [
    "Next I'll make a function that creates a list of bit strings, such that each string is only one bit different from it's neighbours in the list. For example, `make_line(8)` generates\n",
    "\n",
    "    ['000', '100', '110', '010', '011', '111', '101', '001']"
   ]
  },
  {
   "cell_type": "code",
   "execution_count": 3,
   "metadata": {},
   "outputs": [],
   "source": [
    "def make_line ( length ):\n",
    "    # outputs `line`: a list of `length` bit strings (plus a few extra if length isn't a power of two)\n",
    "    # strings defined such that line[j] is Hamming distance 1 from line[j+1], for all j\n",
    "    n = int(np.ceil(np.log(length)/np.log(2)))\n",
    "    line = ['0','1']\n",
    "    for j in range(n-1):\n",
    "        line = line + line[::-1]\n",
    "        for j in range(int(len(line)/2)):\n",
    "            line[j] += '0'\n",
    "        for j in range(int(len(line)/2),int(len(line))):\n",
    "            line[j] += '1'\n",
    "    return line"
   ]
  },
  {
   "cell_type": "markdown",
   "metadata": {},
   "source": [
    "The idea behind what follows is to take a score and represent each event using the information\n",
    "\n",
    "* note\n",
    "* octave\n",
    "* bar\n",
    "* beat\n",
    "* volume\n",
    "\n",
    "I then create a separate subscore for each note. For each event in this, I treat (octave,bar,beat) as a coordinate.\n",
    "\n",
    "To each set of coordinates I associate a bit string, such that these strings differ by only one bit if they correspond to an event on the same beat in the same bar, but on a neighbouring octave, or the same octave and bar but a neighbouring beat, or the same octave and beat but a neighbouring bar. This can be done by using `make_line` to create a seperate line for octaves, bars and beats, and then associating a bit string with each octave, beat and bar. The bit string for any (octave,bar,beat) is then chosen to be the concatenation of the octave, beat and bar strings.\n",
    "\n",
    "I then encode the subscore as a quantum state, by associating the probability of the output bit string for (octave,beat,bar) with the corresponding volume. Encoding the subscore can be done by creating a statevector for which the amplitudes correspond to the square root of the volume (and then normalized). Decoding can be done straightforwardly from the counts dictionary (given enough samples). On a simulator, it can be done by extracting the statevector and reversing the encoding.\n",
    "\n",
    "While the subscore is in the quantum program, it can be manipulated. Small angle rotations, for example, will cause events to bleed volume into neighbouring coordinates and begin to quantumly interefere with each other.\n",
    "\n",
    "The above is all the idea behind what follows. Unfortunately, I seem to have strayed from this when actually doing it. It does produce some sort of an output, though!\n",
    "\n",
    "The parameter `theta` below affects how much interference is caused. For `theta = 0`, the score comes out as it went in. For `theta = np.pi/2` it is a total keyboard mash."
   ]
  },
  {
   "cell_type": "code",
   "execution_count": 4,
   "metadata": {},
   "outputs": [],
   "source": [
    "theta = np.pi/3"
   ]
  },
  {
   "cell_type": "code",
   "execution_count": 5,
   "metadata": {},
   "outputs": [],
   "source": [
    "def make_box ( lengths ):\n",
    "    # same as `make_line`, but outputs `box` for multidimensonal connectivity\n",
    "    box = ['']\n",
    "    for length in lengths:\n",
    "        new_box = []\n",
    "        line = make_line(length)\n",
    "        for bstring in box:\n",
    "            for lstring in line:\n",
    "                new_box.append( bstring + lstring)\n",
    "        box = new_box\n",
    "    return box"
   ]
  },
  {
   "cell_type": "code",
   "execution_count": 6,
   "metadata": {},
   "outputs": [],
   "source": [
    "# set up a piece\n",
    "bar_num = 12     # number of bars\n",
    "octave_num = 4    # number of octaves\n",
    "beat_num = 4      # number of beats per bar, (or half beats, etc depending on desired resolution and tempo)\n",
    "notes_used = ['C','D','E','F','G','A']   # ['C','C#','D','D#','E','F','G#','G','G#','A','A#','B']"
   ]
  },
  {
   "cell_type": "code",
   "execution_count": 7,
   "metadata": {},
   "outputs": [],
   "source": [
    "# set up a score\n",
    "score = []\n",
    "\n",
    "score.append({'note':'C','octave':2,'bar':0,'beat':0, 'volume':100})\n",
    "score.append({'note':'C','octave':2,'bar':0,'beat':1, 'volume':100})\n",
    "score.append({'note':'G','octave':2,'bar':0,'beat':2, 'volume':100})\n",
    "score.append({'note':'G','octave':2,'bar':0,'beat':3, 'volume':100})\n",
    "score.append({'note':'A','octave':2,'bar':1,'beat':0, 'volume':100})\n",
    "score.append({'note':'A','octave':2,'bar':1,'beat':1, 'volume':100})\n",
    "score.append({'note':'G','octave':2,'bar':1,'beat':2, 'volume':100})\n",
    "score.append({'note':'F','octave':2,'bar':2,'beat':0, 'volume':100})\n",
    "score.append({'note':'F','octave':2,'bar':2,'beat':1, 'volume':100})\n",
    "score.append({'note':'E','octave':2,'bar':2,'beat':2, 'volume':100})\n",
    "score.append({'note':'E','octave':2,'bar':2,'beat':3, 'volume':100})\n",
    "score.append({'note':'D','octave':2,'bar':3,'beat':0, 'volume':100})\n",
    "score.append({'note':'D','octave':2,'bar':3,'beat':1, 'volume':100})\n",
    "score.append({'note':'C','octave':2,'bar':3,'beat':2, 'volume':100})\n",
    "score.append({'note':'G','octave':2,'bar':4,'beat':0, 'volume':100})\n",
    "score.append({'note':'G','octave':2,'bar':4,'beat':1, 'volume':100})\n",
    "score.append({'note':'F','octave':2,'bar':4,'beat':2, 'volume':100})\n",
    "score.append({'note':'F','octave':2,'bar':4,'beat':3, 'volume':100})\n",
    "score.append({'note':'E','octave':2,'bar':5,'beat':0, 'volume':100})\n",
    "score.append({'note':'E','octave':2,'bar':5,'beat':1, 'volume':100})\n",
    "score.append({'note':'D','octave':2,'bar':5,'beat':2, 'volume':100})\n",
    "score.append({'note':'G','octave':2,'bar':6,'beat':0, 'volume':100})\n",
    "score.append({'note':'G','octave':2,'bar':6,'beat':1, 'volume':100})\n",
    "score.append({'note':'F','octave':2,'bar':6,'beat':2, 'volume':100})\n",
    "score.append({'note':'F','octave':2,'bar':6,'beat':3, 'volume':100})\n",
    "score.append({'note':'E','octave':2,'bar':7,'beat':0, 'volume':100})\n",
    "score.append({'note':'E','octave':2,'bar':7,'beat':1, 'volume':100})\n",
    "score.append({'note':'D','octave':2,'bar':7,'beat':2, 'volume':100})\n",
    "score.append({'note':'C','octave':2,'bar':8,'beat':0, 'volume':100})\n",
    "score.append({'note':'C','octave':2,'bar':8,'beat':1, 'volume':100})\n",
    "score.append({'note':'G','octave':2,'bar':8,'beat':2, 'volume':100})\n",
    "score.append({'note':'G','octave':2,'bar':8,'beat':3, 'volume':100})\n",
    "score.append({'note':'A','octave':2,'bar':9,'beat':0, 'volume':100})\n",
    "score.append({'note':'A','octave':2,'bar':9,'beat':1, 'volume':100})\n",
    "score.append({'note':'G','octave':2,'bar':9,'beat':2, 'volume':100})\n",
    "score.append({'note':'F','octave':2,'bar':10,'beat':0, 'volume':100})\n",
    "score.append({'note':'F','octave':2,'bar':10,'beat':1, 'volume':100})\n",
    "score.append({'note':'E','octave':2,'bar':10,'beat':2, 'volume':100})\n",
    "score.append({'note':'E','octave':2,'bar':10,'beat':3, 'volume':100})\n",
    "score.append({'note':'D','octave':2,'bar':11,'beat':0, 'volume':100})\n",
    "score.append({'note':'D','octave':2,'bar':11,'beat':1, 'volume':100})\n",
    "score.append({'note':'C','octave':2,'bar':11,'beat':2, 'volume':100})"
   ]
  },
  {
   "cell_type": "code",
   "execution_count": 8,
   "metadata": {},
   "outputs": [],
   "source": [
    "bars = int(np.ceil(np.log(bar_num)/np.log(2)))\n",
    "octaves = int(np.ceil(np.log(octave_num)/np.log(2)))\n",
    "beats = int(np.ceil(np.log(beat_num)/np.log(2)))\n",
    "\n",
    "box = make_box([bar_num,octave_num,beat_num])\n",
    "\n",
    "ket = {}\n",
    "for note in notes_used:\n",
    "    ket[note] = [0]*len(box)\n",
    "\n",
    "for event in score:\n",
    "    address = ''\n",
    "    for coord,limit in [(event['bar'],bars),(event['octave'],octaves),(event['beat'],beats)]:\n",
    "        address += (\"{:0\"+str(limit)+\"b}\").format(coord)\n",
    "    ket[event['note']][int(address,2)] = np.sqrt(event['volume'])\n",
    "for note in notes_used:\n",
    "    N = 0\n",
    "    for amp in ket[note]:\n",
    "        N += amp*np.conj(amp)\n",
    "        \n",
    "    for j,amp in enumerate(ket[note]):\n",
    "        ket[note][j] = amp/np.sqrt(N)"
   ]
  },
  {
   "cell_type": "code",
   "execution_count": 9,
   "metadata": {},
   "outputs": [],
   "source": [
    "n = bars+octaves+beats\n",
    "backend = Aer.get_backend('qasm_simulator')\n",
    "\n",
    "qcs = {}\n",
    "for note in notes_used:\n",
    "    qcs[note] = QuantumCircuit(n,n,name=note)\n",
    "    qcs[note].initialize(ket[note],qcs[note].qregs[0])\n",
    "    qcs[note].ry(theta,qcs[note].qregs[0])\n",
    "    qcs[note].measure(qcs[note].qregs[0],qcs[note].cregs[0])\n",
    "\n",
    "counts = {}\n",
    "for note in notes_used:\n",
    "    \n",
    "    counts[note] = execute(qcs[note],backend,shots=8192).result().get_counts(note)"
   ]
  },
  {
   "cell_type": "code",
   "execution_count": 10,
   "metadata": {},
   "outputs": [],
   "source": [
    "notes = {}\n",
    "\n",
    "for note in notes_used:\n",
    "    maxvol = 0\n",
    "    these_notes = {}\n",
    "    for string in counts[note]:\n",
    "        beat = int(string[-beats::],2)\n",
    "        octave = int(string[-beats-octaves:-beats:],2)\n",
    "        bar = int(string[0:bars],2)\n",
    "        vol = np.log( counts[note][string] )\n",
    "        these_notes[(note,beat,octave,bar)] = vol\n",
    "        maxvol = max(maxvol,vol)\n",
    "\n",
    "    for coords in these_notes:\n",
    "        these_notes[coords] = int(these_notes[coords]*100/maxvol)\n",
    "\n",
    "    for note in these_notes:\n",
    "        notes[note] = these_notes[note]      "
   ]
  },
  {
   "cell_type": "code",
   "execution_count": 11,
   "metadata": {},
   "outputs": [],
   "source": [
    "track = 0\n",
    "channel = 0\n",
    "tempo = 60\n",
    "\n",
    "MyMIDI = MIDIFile(1)\n",
    "MyMIDI.addTempo(track, 0, tempo)\n",
    "MyMIDI.addProgramChange(0,0,0,1)\n",
    "\n",
    "for (note,beat,octave,bar) in notes:\n",
    "\n",
    "    degree = note_ref[note] + octave*12\n",
    "    time = beat + beat_num*bar\n",
    "    duration = 1\n",
    "    volume = notes[(note,beat,octave,bar)]\n",
    "    MyMIDI.addNote(track, channel, degree, time, duration, volume)\n",
    "    \n",
    "with open(\"music.mid\", \"wb\") as output_file:\n",
    "    MyMIDI.writeFile(output_file)"
   ]
  },
  {
   "cell_type": "code",
   "execution_count": 12,
   "metadata": {},
   "outputs": [],
   "source": [
    "pygame.init()\n",
    "\n",
    "pygame.mixer.music.load(\"music.mid\")\n",
    "pygame.mixer.music.play()"
   ]
  },
  {
   "cell_type": "code",
   "execution_count": null,
   "metadata": {},
   "outputs": [],
   "source": []
  }
 ],
 "metadata": {
  "kernelspec": {
   "display_name": "Python 3",
   "language": "python",
   "name": "python3"
  },
  "language_info": {
   "codemirror_mode": {
    "name": "ipython",
    "version": 3
   },
   "file_extension": ".py",
   "mimetype": "text/x-python",
   "name": "python",
   "nbconvert_exporter": "python",
   "pygments_lexer": "ipython3",
   "version": "3.7.0"
  }
 },
 "nbformat": 4,
 "nbformat_minor": 2
}
